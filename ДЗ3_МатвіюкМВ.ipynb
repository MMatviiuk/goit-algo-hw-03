{
  "nbformat": 4,
  "nbformat_minor": 0,
  "metadata": {
    "colab": {
      "provenance": []
    },
    "kernelspec": {
      "name": "python3",
      "display_name": "Python 3"
    },
    "language_info": {
      "name": "python"
    }
  },
  "cells": [
    {
      "cell_type": "markdown",
      "source": [
        "**Завдання 1.**"
      ],
      "metadata": {
        "id": "b-J-aKXiBBwq"
      }
    },
    {
      "cell_type": "code",
      "execution_count": 13,
      "metadata": {
        "colab": {
          "base_uri": "https://localhost:8080/",
          "height": 124
        },
        "id": "P8dkoRV67dTz",
        "outputId": "86f2186e-335f-444c-ca20-d6ca4637910f"
      },
      "outputs": [
        {
          "output_type": "stream",
          "name": "stderr",
          "text": [
            "usage: colab_kernel_launcher.py [-h] src_dir [dst_dir]\n",
            "colab_kernel_launcher.py: error: unrecognized arguments: -f\n"
          ]
        },
        {
          "output_type": "error",
          "ename": "SystemExit",
          "evalue": "2",
          "traceback": [
            "An exception has occurred, use %tb to see the full traceback.\n",
            "\u001b[0;31mSystemExit\u001b[0m\u001b[0;31m:\u001b[0m 2\n"
          ]
        }
      ],
      "source": [
        "import os\n",
        "import shutil\n",
        "import sys\n",
        "\n",
        "def parse_args():\n",
        "    import argparse\n",
        "\n",
        "    parser = argparse.ArgumentParser(description=\"Копіює файли у вихідній директорії та сортує їх в піддиректоріях за розширенням.\")\n",
        "    parser.add_argument('src_dir', type=str, help='Шлях до вихідної директорії')\n",
        "    parser.add_argument('dst_dir', type=str, nargs='?', default='dist', help='Шлях до директорії призначення (за замовчуванням: dist)')\n",
        "    return parser.parse_args()\n",
        "\n",
        "def copy_files(src_dir, dst_dir):\n",
        "    try:\n",
        "        for item in os.listdir(src_dir):\n",
        "            src_path = os.path.join(src_dir, item)\n",
        "            if os.path.isdir(src_path):\n",
        "                copy_files(src_path, dst_dir)\n",
        "            elif os.path.isfile(src_path):\n",
        "                extension = os.path.splitext(item)[1][1:]  # Отримуємо розширення файлу без крапки\n",
        "                if extension:  # Перевіряємо, що у файлу є розширення\n",
        "                    dst_path = os.path.join(dst_dir, extension)\n",
        "                    os.makedirs(dst_path, exist_ok=True)  # Створюємо директорію, якщо вона не існує\n",
        "                    shutil.copy2(src_path, os.path.join(dst_path, item))\n",
        "    except Exception as e:\n",
        "        print(f\"Помилка обробки {src_dir}: {e}\")\n",
        "\n",
        "def main():\n",
        "    args = parse_args()\n",
        "    src_dir = args.src_dir\n",
        "    dst_dir = args.dst_dir\n",
        "\n",
        "    if not os.path.exists(src_dir):\n",
        "        print(f\"Вихідна директорія '{src_dir}' не існує.\")\n",
        "        sys.exit(1)\n",
        "\n",
        "    if not os.path.exists(dst_dir):\n",
        "        os.makedirs(dst_dir)\n",
        "\n",
        "    copy_files(src_dir, dst_dir)\n",
        "    print(f\"Файли скопійовано та відсортовано у {dst_dir}\")\n",
        "\n",
        "if __name__ == \"__main__\":\n",
        "    main()\n",
        "\n"
      ]
    },
    {
      "cell_type": "markdown",
      "source": [
        "**Завдання 2.**"
      ],
      "metadata": {
        "id": "hk8CLg0BBGG1"
      }
    },
    {
      "cell_type": "code",
      "source": [
        "import matplotlib.pyplot as plt\n",
        "import numpy as np\n",
        "\n",
        "def koch_snowflake(order, scale=10):\n",
        "    if order == 0:\n",
        "        # Прямий відрізок довжиною scale\n",
        "        return [(0, 0), (scale, 0)]\n",
        "\n",
        "    # Отримання сніжинки Коха попереднього порядку\n",
        "    previous_level = koch_snowflake(order - 1, scale)\n",
        "\n",
        "    # Перетворення кожного відрізка попереднього рівня\n",
        "    new_points = []\n",
        "    for (x1, y1), (x2, y2) in zip(previous_level[:-1], previous_level[1:]):\n",
        "        # Визначення проміжних точок\n",
        "        x_1_3 = x1 + (x2 - x1) / 3\n",
        "        y_1_3 = y1 + (y2 - y1) / 3\n",
        "        x_2_3 = x1 + 2 * (x2 - x1) / 3\n",
        "        y_2_3 = y1 + 2 * (y2 - y1) / 3\n",
        "        x_mid = (x1 + x2) / 2 - np.sqrt(3) * (y2 - y1) / 6\n",
        "        y_mid = (y1 + y2) / 2 + np.sqrt(3) * (x2 - x1) / 6\n",
        "\n",
        "        # Додавання нових точок\n",
        "        new_points.extend([(x1, y1), (x_1_3, y_1_3), (x_mid, y_mid), (x_2_3, y_2_3)])\n",
        "    new_points.append((x2, y2))  # Додавання останньої точки\n",
        "\n",
        "    return new_points\n",
        "\n",
        "def plot_koch_snowflake(order, scale=10):\n",
        "    points = koch_snowflake(order, scale)\n",
        "    x, y = zip(*points)\n",
        "\n",
        "    plt.figure(figsize=(6, 6))\n",
        "    plt.plot(x, y)\n",
        "    plt.axis('equal')\n",
        "    plt.title(f\"Сніжинка Коха порядку {order}\")\n",
        "    plt.show()\n",
        "\n",
        "# Введення рівня рекурсії\n",
        "level = int(input(\"Введіть рівень рекурсії для сніжинки Коха: \"))\n",
        "\n",
        "# Малювання сніжинки Коха\n",
        "plot_koch_snowflake(level)\n",
        "\n"
      ],
      "metadata": {
        "colab": {
          "base_uri": "https://localhost:8080/",
          "height": 562
        },
        "id": "ilcqVI9GBIYd",
        "outputId": "25814dd3-94ca-4128-d2cb-55c24118985a"
      },
      "execution_count": 14,
      "outputs": [
        {
          "name": "stdout",
          "output_type": "stream",
          "text": [
            "Введіть рівень рекурсії для сніжинки Коха: 4\n"
          ]
        },
        {
          "output_type": "display_data",
          "data": {
            "text/plain": [
              "<Figure size 600x600 with 1 Axes>"
            ],
            "image/png": "[encoded data removed]"
          },
          "metadata": {}
        }
      ]
    },
    {
      "cell_type": "code",
      "source": [],
      "metadata": {
        "id": "DjAYhWk1DAnW"
      },
      "execution_count": null,
      "outputs": []
    },
    {
      "cell_type": "markdown",
      "source": [
        "**Завдання 3.**"
      ],
      "metadata": {
        "id": "fFkY7HBeCOBq"
      }
    },
    {
      "cell_type": "code",
      "source": [
        "def move_disk(n, source, target, auxiliary):\n",
        "    if n == 1:\n",
        "        print(f\"Перемістити диск з {source} на {target}\")\n",
        "        towers[target].append(towers[source].pop())\n",
        "        print_state()\n",
        "    else:\n",
        "        move_disk(n-1, source, auxiliary, target)\n",
        "        move_disk(1, source, target, auxiliary)\n",
        "        move_disk(n-1, auxiliary, target, source)\n",
        "\n",
        "def print_state():\n",
        "    print(f\"Проміжний стан: {{'A': {towers['A']}, 'B': {towers['B']}, 'C': {towers['C']}}}\")\n",
        "\n",
        "def print_final_state():\n",
        "    print(f\"Кінцевий стан: {{'A': {towers['A']}, 'B': {towers['B']}, 'C': {towers['C']}}}\")\n",
        "\n",
        "# Вхідні дані\n",
        "n = int(input(\"Введіть кількість дисків: \"))\n",
        "\n",
        "# Початковий стан стрижнів\n",
        "towers = {'A': list(reversed(range(1, n+1))), 'B': [], 'C': []}\n",
        "print(\"Початковий стан:\")\n",
        "print_state()\n",
        "\n",
        "# Запуск алгоритму\n",
        "move_disk(n, 'A', 'C', 'B')\n",
        "\n",
        "# Виведення кінцевого стану\n",
        "print_final_state()\n"
      ],
      "metadata": {
        "colab": {
          "base_uri": "https://localhost:8080/"
        },
        "id": "ZIaTPjecCSZw",
        "outputId": "10461c57-8cf3-4cc9-b027-6286e0199614"
      },
      "execution_count": 15,
      "outputs": [
        {
          "output_type": "stream",
          "name": "stdout",
          "text": [
            "Введіть кількість дисків: 4\n",
            "Початковий стан:\n",
            "Проміжний стан: {'A': [4, 3, 2, 1], 'B': [], 'C': []}\n",
            "Перемістити диск з A на B\n",
            "Проміжний стан: {'A': [4, 3, 2], 'B': [1], 'C': []}\n",
            "Перемістити диск з A на C\n",
            "Проміжний стан: {'A': [4, 3], 'B': [1], 'C': [2]}\n",
            "Перемістити диск з B на C\n",
            "Проміжний стан: {'A': [4, 3], 'B': [], 'C': [2, 1]}\n",
            "Перемістити диск з A на B\n",
            "Проміжний стан: {'A': [4], 'B': [3], 'C': [2, 1]}\n",
            "Перемістити диск з C на A\n",
            "Проміжний стан: {'A': [4, 1], 'B': [3], 'C': [2]}\n",
            "Перемістити диск з C на B\n",
            "Проміжний стан: {'A': [4, 1], 'B': [3, 2], 'C': []}\n",
            "Перемістити диск з A на B\n",
            "Проміжний стан: {'A': [4], 'B': [3, 2, 1], 'C': []}\n",
            "Перемістити диск з A на C\n",
            "Проміжний стан: {'A': [], 'B': [3, 2, 1], 'C': [4]}\n",
            "Перемістити диск з B на C\n",
            "Проміжний стан: {'A': [], 'B': [3, 2], 'C': [4, 1]}\n",
            "Перемістити диск з B на A\n",
            "Проміжний стан: {'A': [2], 'B': [3], 'C': [4, 1]}\n",
            "Перемістити диск з C на A\n",
            "Проміжний стан: {'A': [2, 1], 'B': [3], 'C': [4]}\n",
            "Перемістити диск з B на C\n",
            "Проміжний стан: {'A': [2, 1], 'B': [], 'C': [4, 3]}\n",
            "Перемістити диск з A на B\n",
            "Проміжний стан: {'A': [2], 'B': [1], 'C': [4, 3]}\n",
            "Перемістити диск з A на C\n",
            "Проміжний стан: {'A': [], 'B': [1], 'C': [4, 3, 2]}\n",
            "Перемістити диск з B на C\n",
            "Проміжний стан: {'A': [], 'B': [], 'C': [4, 3, 2, 1]}\n",
            "Кінцевий стан: {'A': [], 'B': [], 'C': [4, 3, 2, 1]}\n"
          ]
        }
      ]
    }
  ]
}